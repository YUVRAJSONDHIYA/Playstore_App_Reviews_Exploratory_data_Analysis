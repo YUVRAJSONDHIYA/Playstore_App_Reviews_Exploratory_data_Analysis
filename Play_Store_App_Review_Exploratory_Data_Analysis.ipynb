{
  "nbformat": 4,
  "nbformat_minor": 0,
  "metadata": {
    "colab": {
      "private_outputs": true,
      "provenance": [],
      "collapsed_sections": [
        "MSa1f5Uengrz",
        "gIfDvo9L0UH2"
      ]
    },
    "kernelspec": {
      "name": "python3",
      "display_name": "Python 3"
    },
    "language_info": {
      "name": "python"
    }
  },
  "cells": [
    {
      "cell_type": "markdown",
      "source": [
        "# **Project Name**    -  Google Play Store App Review Exploratory Data Analysis\n",
        "\n",
        "![Python Logo](https://gagadget.com/media/post_big/what-is-google-play-hero_2.jpg)\n"
      ],
      "metadata": {
        "id": "vncDsAP0Gaoa"
      }
    },
    {
      "cell_type": "markdown",
      "source": [
        "##### **Project Type**    - EDA\n",
        "##### **Contribution**    - Individual\n"
      ],
      "metadata": {
        "id": "beRrZCGUAJYm"
      }
    },
    {
      "cell_type": "markdown",
      "source": [
        "# **Project Summary -**"
      ],
      "metadata": {
        "id": "FJNUwmbgGyua"
      }
    },
    {
      "cell_type": "markdown",
      "source": [
        "Google Play Store is one of the largest mobile app distribution platforms, hosting millions of applications across diverse categories such as Games, Education, Business, Health, and Lifestyle. With immense competition among apps, factors such as user reviews, ratings, installs, and category placement significantly impact an app’s success.\n",
        "\n",
        "This project is based on a dataset containing 122,662 records across 17 attributes. The dataset provides valuable information such as app details, category, rating, number of reviews, size, installs, price, content rating, genres, update history, and user sentiment (translated reviews, sentiment polarity, and subjectivity).\n",
        "\n",
        "Initial analysis highlights an important insight — while millions of apps are available, only a small fraction achieve consistently high ratings and positive sentiments, indicating the presence of hidden patterns that determine app popularity and user satisfaction.\n",
        "\n",
        "The goal of this project is to uncover these patterns and generate actionable insights that can help app developers, marketers, and businesses optimize their strategies, enhance user experience, and increase downloads and engagement.\n",
        "\n",
        "###✅ Approach Used\n",
        "#### 1) Loading the Data :-\n",
        "Loaded the dataset in Google Colab.\n",
        "Shape of dataset: (122,662, 17).\n",
        "\n",
        "#### 2) Data Cleaning and Processing:-\n",
        "Removed duplicate records and irrelevant entries.\n",
        "Handled missing values in Rating, Size, Sentiment columns.\n",
        "\n",
        "#### 3) Analysis and Visualization:-\n",
        "\n",
        "We explored important attributes such as Category, Rating, Reviews, Installs, Price, Content Rating, and Sentiment to identify patterns and trends. Key analyses include:\n",
        "\n",
        "* Distribution of app ratings and reviews.\n",
        "\n",
        "* Most popular categories and genres by number of apps.\n",
        "\n",
        "* Free vs. Paid apps → install trends and revenue potential.\n",
        "\n",
        "* Relationship between app size and rating.\n",
        "\n",
        "* Sentiment analysis of user reviews → polarity & subjectivity trends.\n",
        "\n",
        "* Effect of last updated date on app performance.\n",
        "\n",
        "#### 4) Future Scope of Further Analysis:-\n",
        "\n",
        "* Identifying category-wise trends in high-rated apps.\n",
        "\n",
        "* Analyzing revenue contribution of paid apps across categories.\n",
        "\n",
        "* Studying seasonal trends in app releases and updates.\n",
        "\n",
        "* Deeper sentiment analysis (positive/negative reviews by category).\n",
        "\n",
        "* Building a predictive model to estimate an app’s success based on reviews, ratings, and category.\n",
        "\n",
        "### 📊 Types of Graphs Used for Data Visualization\n",
        "\n",
        "* Count Plot\n",
        "* Bar Plot\n",
        "* Scatter Plot\n",
        "* Heatmap\n",
        "* Box Plot\n",
        "* Pie Chart\n",
        "\n",
        "### 🛠 Python Libraries Used\n",
        "\n",
        "* Pandas → Data cleaning & analysis\n",
        "\n",
        "* NumPy → Numerical operations\n",
        "\n",
        "* Matplotlib → Visualizations\n",
        "\n",
        "* Seaborn → Statistical plots"
      ],
      "metadata": {
        "id": "F6v_1wHtG2nS"
      }
    },
    {
      "cell_type": "markdown",
      "source": [
        "# **GitHub Link -**"
      ],
      "metadata": {
        "id": "w6K7xa23Elo4"
      }
    },
    {
      "cell_type": "markdown",
      "source": [
        "https://github.com/YUVRAJSONDHIYA/Playstore_App_Reviews_Exploratory_data_Analysis"
      ],
      "metadata": {
        "id": "h1o69JH3Eqqn"
      }
    },
    {
      "cell_type": "markdown",
      "source": [
        "# **Problem Statement**\n"
      ],
      "metadata": {
        "id": "yQaldy8SH6Dl"
      }
    },
    {
      "cell_type": "markdown",
      "source": [
        "The Google Play Store hosts millions of mobile applications across diverse categories such as Games, Business, Education, and Lifestyle. With this massive competition, the success of an app depends on multiple factors — its category, ratings, user reviews, size, price model (free/paid), and regular updates.\n",
        "\n",
        "Despite the abundance of apps, only a small fraction achieve high ratings and strong user sentiment, while many struggle to retain users. This creates important challenges for developers and businesses:\n",
        "\n",
        "1.Which categories and genres dominate the Play Store, and how do they impact installs?\n",
        "\n",
        "2.How do ratings and user reviews influence an app’s popularity and success?\n",
        "\n",
        "3.What role does pricing (free vs paid) play in driving downloads and engagement?\n",
        "\n",
        "4.How does user sentiment (positive, negative, neutral) from reviews correlate with app ratings and installs?\n",
        "\n",
        "5.Do regular updates improve app ratings and user satisfaction over time?\n",
        "\n",
        "By analyzing this dataset of 122,662 records and 17 attributes, the goal is to uncover hidden patterns behind app success and user satisfaction. The insights generated can help app developers, marketers, and businesses optimize their strategies, improve user experience, and build more successful applications in a highly competitive market."
      ],
      "metadata": {
        "id": "DpeJGUA3kjGy"
      }
    },
    {
      "cell_type": "markdown",
      "source": [
        "#### **Define Your Business Objective?**"
      ],
      "metadata": {
        "id": "PH-0ReGfmX4f"
      }
    },
    {
      "cell_type": "markdown",
      "source": [
        "* The objective of this project is to analyze Google Play Store app data to identify the factors that contribute to an app’s success and user satisfaction. By leveraging insights from app details, user ratings, reviews, installs, and sentiments, this analysis will help:\n",
        "\n",
        "* Identify Top-Performing Categories & Genres → Determine which types of apps dominate the market and attract the highest installs.\n",
        "\n",
        "* Understand the Impact of Ratings & Reviews → Evaluate how user feedback influences app popularity and long-term success.\n",
        "\n",
        "* Compare Free vs Paid Apps → Assess how pricing models affect downloads, user sentiment, and potential revenue.\n",
        "\n",
        "* Analyze Sentiment Trends → Study user reviews (positive, negative, neutral) to understand key drivers of satisfaction and dissatisfaction.\n",
        "\n",
        "* Evaluate the Effect of App Size & Updates → Check whether app size and regular updates influence ratings and user adoption.\n",
        "\n",
        "* Provide Actionable Recommendations → Enable app developers, marketers, and businesses to make data-driven decisions for improving app quality, enhancing user engagement, and increasing competitiveness in the Play Store ecosystem."
      ],
      "metadata": {
        "id": "PhDvGCAqmjP1"
      }
    },
    {
      "cell_type": "markdown",
      "source": [
        "# **General Guidelines** : -  "
      ],
      "metadata": {
        "id": "mDgbUHAGgjLW"
      }
    },
    {
      "cell_type": "markdown",
      "source": [
        "1.   Well-structured, formatted, and commented code is required.\n",
        "2.   Exception Handling, Production Grade Code & Deployment Ready Code will be a plus. Those students will be awarded some additional credits.\n",
        "     \n",
        "     The additional credits will have advantages over other students during Star Student selection.\n",
        "       \n",
        "             [ Note: - Deployment Ready Code is defined as, the whole .ipynb notebook should be executable in one go\n",
        "                       without a single error logged. ]\n",
        "\n",
        "3.   Each and every logic should have proper comments.\n",
        "4. You may add as many number of charts you want. Make Sure for each and every chart the following format should be answered.\n",
        "        \n",
        "\n",
        "```\n",
        "# Chart visualization code\n",
        "```\n",
        "            \n",
        "\n",
        "*   Why did you pick the specific chart?\n",
        "*   What is/are the insight(s) found from the chart?\n",
        "* Will the gained insights help creating a positive business impact?\n",
        "Are there any insights that lead to negative growth? Justify with specific reason.\n",
        "\n",
        "5. You have to create at least 20 logical & meaningful charts having important insights.\n",
        "\n",
        "\n",
        "[ Hints : - Do the Vizualization in  a structured way while following \"UBM\" Rule.\n",
        "\n",
        "U - Univariate Analysis,\n",
        "\n",
        "B - Bivariate Analysis (Numerical - Categorical, Numerical - Numerical, Categorical - Categorical)\n",
        "\n",
        "M - Multivariate Analysis\n",
        " ]\n",
        "\n",
        "\n",
        "\n"
      ],
      "metadata": {
        "id": "ZrxVaUj-hHfC"
      }
    },
    {
      "cell_type": "markdown",
      "source": [
        "# ***Let's Begin !***"
      ],
      "metadata": {
        "id": "O_i_v8NEhb9l"
      }
    },
    {
      "cell_type": "markdown",
      "source": [
        "## ***1. Know Your Data***"
      ],
      "metadata": {
        "id": "HhfV-JJviCcP"
      }
    },
    {
      "cell_type": "markdown",
      "source": [
        "### Import Libraries"
      ],
      "metadata": {
        "id": "Y3lxredqlCYt"
      }
    },
    {
      "cell_type": "code",
      "source": [
        "# Import Libraries\n",
        "import numpy as np\n",
        "import pandas as pd\n",
        "import matplotlib.pyplot as plt\n",
        "import seaborn as sns\n",
        "import datetime as dt\n",
        "import warnings\n",
        "warnings.filterwarnings('ignore')"
      ],
      "metadata": {
        "id": "M8Vqi-pPk-HR"
      },
      "execution_count": null,
      "outputs": []
    },
    {
      "cell_type": "markdown",
      "source": [
        "### Dataset Loading"
      ],
      "metadata": {
        "id": "3RnN4peoiCZX"
      }
    },
    {
      "cell_type": "code",
      "source": [
        "# Load Dataset\n",
        "\n",
        "# Load the 'Play Store Data' dataset from the CSV file\n",
        "play_store_data = pd.read_csv(\"/content/Play Store Data.csv\")\n",
        "\n",
        "# Load the 'User Reviews' dataset from the  CSV file\n",
        "user_reviews = pd.read_csv(\"/content/User Reviews.csv\")\n",
        "\n",
        "# Merge the two datasets on the common column 'App'\n",
        "# Perform an inner join to keep only the rows where 'App' exists in both DataFrames\n",
        "data = pd.merge(play_store_data,user_reviews,on='App',how='inner')"
      ],
      "metadata": {
        "id": "4CkvbW_SlZ_R"
      },
      "execution_count": null,
      "outputs": []
    },
    {
      "cell_type": "markdown",
      "source": [
        "### Dataset First View"
      ],
      "metadata": {
        "id": "x71ZqKXriCWQ"
      }
    },
    {
      "cell_type": "code",
      "source": [
        "# Dataset First Look\n",
        "data.head()"
      ],
      "metadata": {
        "id": "LWNFOSvLl09H"
      },
      "execution_count": null,
      "outputs": []
    },
    {
      "cell_type": "markdown",
      "source": [
        "### Dataset Rows & Columns count"
      ],
      "metadata": {
        "id": "7hBIi_osiCS2"
      }
    },
    {
      "cell_type": "code",
      "source": [
        "# Dataset Rows & Columns count\n",
        "data.shape"
      ],
      "metadata": {
        "id": "Kllu7SJgmLij"
      },
      "execution_count": null,
      "outputs": []
    },
    {
      "cell_type": "markdown",
      "source": [
        "### Dataset Information"
      ],
      "metadata": {
        "id": "JlHwYmJAmNHm"
      }
    },
    {
      "cell_type": "code",
      "source": [
        "# Dataset Info\n",
        "data.info()"
      ],
      "metadata": {
        "id": "e9hRXRi6meOf"
      },
      "execution_count": null,
      "outputs": []
    },
    {
      "cell_type": "markdown",
      "source": [
        "#### Duplicate Values"
      ],
      "metadata": {
        "id": "35m5QtbWiB9F"
      }
    },
    {
      "cell_type": "code",
      "source": [
        "# Dataset Duplicate Value Count\n",
        "data.duplicated().sum()"
      ],
      "metadata": {
        "id": "1sLdpKYkmox0"
      },
      "execution_count": null,
      "outputs": []
    },
    {
      "cell_type": "markdown",
      "source": [
        "#### Missing Values/Null Values"
      ],
      "metadata": {
        "id": "PoPl-ycgm1ru"
      }
    },
    {
      "cell_type": "code",
      "source": [
        "# Missing Values/Null Values Count\n",
        "data.isnull().sum()"
      ],
      "metadata": {
        "id": "GgHWkxvamxVg"
      },
      "execution_count": null,
      "outputs": []
    },
    {
      "cell_type": "code",
      "source": [
        "(data.isnull().sum()/len(data))*100"
      ],
      "metadata": {
        "id": "AO6pv0QHeO6s"
      },
      "execution_count": null,
      "outputs": []
    },
    {
      "cell_type": "code",
      "source": [
        "# Visualizing the missing values\n",
        "plt.figure(figsize=(12, 6))\n",
        "sns.heatmap(data.isnull(),\n",
        "            cmap='rocket',  # better color scheme\n",
        "            cbar=False,\n",
        "            yticklabels=False)  # hides row numbers for cleaner view\n",
        "plt.title('Heatmap of Missing Values', fontsize=15)\n",
        "plt.xlabel('Columns')\n",
        "plt.tight_layout()\n",
        "plt.show()"
      ],
      "metadata": {
        "id": "3q5wnI3om9sJ"
      },
      "execution_count": null,
      "outputs": []
    },
    {
      "cell_type": "markdown",
      "source": [
        "### What did you know about your dataset?"
      ],
      "metadata": {
        "id": "H0kj-8xxnORC"
      }
    },
    {
      "cell_type": "markdown",
      "source": [
        "The Google Play Store App Review dataset contains 122,662 records and 17 attributes, providing detailed information about mobile applications and their user feedback. It includes app-related details such as name, category, rating, reviews, size, installs, price, content rating, genres, and update history. Alongside these, it also captures translated user reviews, sentiment labels (positive, negative, neutral), and sentiment polarity/subjectivity scores, making it useful for both exploratory data analysis (EDA) and sentiment analysis. This dataset enables us to explore factors driving app popularity, user satisfaction, and market trends across different categories and genres."
      ],
      "metadata": {
        "id": "gfoNAAC-nUe_"
      }
    },
    {
      "cell_type": "markdown",
      "source": [
        "## ***2. Understanding Your Variables***"
      ],
      "metadata": {
        "id": "nA9Y7ga8ng1Z"
      }
    },
    {
      "cell_type": "code",
      "source": [
        "# Dataset Columns\n",
        "data.columns"
      ],
      "metadata": {
        "id": "j7xfkqrt5Ag5"
      },
      "execution_count": null,
      "outputs": []
    },
    {
      "cell_type": "code",
      "source": [
        "# Dataset Describe\n",
        "data.describe(include='all')"
      ],
      "metadata": {
        "id": "DnOaZdaE5Q5t"
      },
      "execution_count": null,
      "outputs": []
    },
    {
      "cell_type": "markdown",
      "source": [
        "### Variables Description"
      ],
      "metadata": {
        "id": "PBTbrJXOngz2"
      }
    },
    {
      "cell_type": "markdown",
      "source": [
        "* App : Name of the application.\n",
        "\n",
        "* Category : Category of the app (e.g., Game, Business, Education, Lifestyle).\n",
        "\n",
        "* Rating : Average user rating of the app (scale of 0–5).\n",
        "\n",
        "* Reviews : Total number of reviews submitted for the app.\n",
        "\n",
        "* Size : Size of the app in MB/KB (or “Varies with device”).\n",
        "\n",
        "* Installs : Number of installs/downloads (e.g., 10,000+, 1,000,000+).\n",
        "\n",
        "* Type : Specifies whether the app is Free or Paid.\n",
        "\n",
        "* Price : Price of the app (0 for free apps, numeric value for paid apps).\n",
        "\n",
        "* Content Rating : Age group suitability (e.g., Everyone, Teen, Mature 17+).\n",
        "\n",
        "* Genres : Genre(s) of the app (e.g., Action, Puzzle, Lifestyle; multiple possible).\n",
        "\n",
        "* Last Updated : Date when the app was last updated on the Play Store.\n",
        "\n",
        "* Current Ver : Current version of the app available.\n",
        "\n",
        "* Android Ver : Minimum Android version required to run the app.\n",
        "\n",
        "* Translated_Review : User review translated into English.\n",
        "\n",
        "* Sentiment : Sentiment label of the review (Positive, Negative, Neutral).\n",
        "\n",
        "* Sentiment_Polarity : Polarity score (-1 to +1) showing how positive/negative a review is.\n",
        "\n",
        "* Sentiment_Subjectivity : Subjectivity score (0 = objective, 1 = highly subjective opinion)."
      ],
      "metadata": {
        "id": "aJV4KIxSnxay"
      }
    },
    {
      "cell_type": "markdown",
      "source": [
        "### Check Unique Values for each variable."
      ],
      "metadata": {
        "id": "u3PMJOP6ngxN"
      }
    },
    {
      "cell_type": "code",
      "source": [
        "# Check Unique Values for each variable.\n",
        "# Loop through each column in the DataFrame and print the number of unique values for that column\n",
        "for i in list(data.columns):\n",
        "  print(\"No. of unique values in \",i,\"is\",data[i].nunique(),\".\")"
      ],
      "metadata": {
        "id": "zms12Yq5n-jE"
      },
      "execution_count": null,
      "outputs": []
    },
    {
      "cell_type": "markdown",
      "source": [
        "## 3. ***Data Wrangling***"
      ],
      "metadata": {
        "id": "dauF4eBmngu3"
      }
    },
    {
      "cell_type": "markdown",
      "source": [
        "### Data Wrangling Code"
      ],
      "metadata": {
        "id": "bKJF3rekwFvQ"
      }
    },
    {
      "cell_type": "code",
      "source": [
        "# Write your code to make your dataset analysis ready.\n",
        "# Creating a copy of the current dataset and assigning to df\n",
        "df = data.copy()"
      ],
      "metadata": {
        "id": "wk-9a2fpoLcV"
      },
      "execution_count": null,
      "outputs": []
    },
    {
      "cell_type": "code",
      "source": [
        "# Analysing the null values\n",
        "df.isnull().sum()"
      ],
      "metadata": {
        "id": "aZDwee-cG1Om"
      },
      "execution_count": null,
      "outputs": []
    },
    {
      "cell_type": "code",
      "source": [
        "# Analysing the null values in percentage\n",
        "(df.isnull().sum()/len(df))*100"
      ],
      "metadata": {
        "id": "VSEdvPqtG1Rn"
      },
      "execution_count": null,
      "outputs": []
    },
    {
      "cell_type": "markdown",
      "source": [
        "# Filling the missing value"
      ],
      "metadata": {
        "id": "FTKnWFeyHLb_"
      }
    },
    {
      "cell_type": "code",
      "source": [
        "# Check the skewness of 'Rating' column with to decide an appropriate imputation method\n",
        "skewness = df['Rating'].skew()  # Negative skew indicates a left-skewed distribution\n",
        "\n",
        "# Fill missing value in 'Rating' with median\n",
        "rating_median = df[\"Rating\"].median()\n",
        "df.fillna({\"Rating\": rating_median}, inplace=True)"
      ],
      "metadata": {
        "id": "8P-2ORxaG1VH"
      },
      "execution_count": null,
      "outputs": []
    },
    {
      "cell_type": "code",
      "source": [
        "# Dropping rows with missing values in review/sentiment-related columns\n",
        "# because these features are critical for EDA and cannot be imputed reliably.\n",
        "# Keeping them would bias our sentiment analysis, so we ensure data quality by removing incomplete records.\n",
        "# Drop rows where review or sentiment information is missing\n",
        "df.dropna(\n",
        "    subset=[\"Translated_Review\", \"Sentiment\", \"Sentiment_Polarity\", \"Sentiment_Subjectivity\"],\n",
        "    inplace=True\n",
        ")\n",
        "\n",
        "# Drop duplicate rows if any\n",
        "df.drop_duplicates(inplace=True)\n",
        "\n",
        "# Reset index after cleaning\n",
        "df.reset_index(drop=True, inplace=True)"
      ],
      "metadata": {
        "id": "QWpiSbCsG1YP"
      },
      "execution_count": null,
      "outputs": []
    },
    {
      "cell_type": "markdown",
      "source": [
        "# Why Imputation is Not Used for Review & Sentiment Columns\n",
        "\n",
        "1.Nature of Data:-\n",
        "\n",
        "The missing values are in Translated_Review, Sentiment, Sentiment_Polarity, and Sentiment_Subjectivity.\n",
        "These columns contain text data and sentiment scores derived from that text.\n",
        "\n",
        "2.Imputation Limitations:-\n",
        "\n",
        "Unlike numeric columns (where mean/median can represent missing values), textual reviews and sentiments cannot be “guessed” without introducing bias.\n",
        "\n",
        "Example: Filling a missing review with a placeholder or repeating another review would distort the analysis.\n",
        "\n",
        "3.Impact on EDA:-\n",
        "\n",
        "EDA relies on authentic distribution of sentiments and reviews. Artificially filled values would misrepresent audience opinions.\n",
        "Sentiment scores are mathematically linked to the original review text. If the review is missing, imputing polarity/subjectivity is meaningless.\n",
        "\n",
        "4.Data Integrity:-\n",
        "\n",
        "Dropping rows with missing values ensures higher data quality and integrity.\n",
        "This avoids introducing noise or false patterns in downstream analysis."
      ],
      "metadata": {
        "id": "JH7Y8k9rmokN"
      }
    },
    {
      "cell_type": "code",
      "source": [
        "# Check duplicate values\n",
        "df.duplicated().sum()"
      ],
      "metadata": {
        "id": "cqM21uCEG1bS"
      },
      "execution_count": null,
      "outputs": []
    },
    {
      "cell_type": "code",
      "source": [
        "df.info()"
      ],
      "metadata": {
        "id": "Yo7p1nEPG1e6"
      },
      "execution_count": null,
      "outputs": []
    },
    {
      "cell_type": "code",
      "source": [
        "# The 'Installs' column contains strings with '+' and ',' (e.g., 500,000+).\n",
        "# These are non-numeric characters that prevent mathematical analysis.\n",
        "# We remove '+' and ',' to clean the data, then convert the column into integers\n",
        "df['Installs'] = df['Installs'].str.replace('[+,]', '', regex=True).astype(int)"
      ],
      "metadata": {
        "id": "GNNIngWxG2Gm"
      },
      "execution_count": null,
      "outputs": []
    },
    {
      "cell_type": "code",
      "source": [
        "# The 'Reviews' column is stored as object (string) even though it represents numbers.\n",
        "# Converting it to integer type allows proper numerical operations (e.g., sorting, aggregations).\n",
        "df['Reviews'] = df['Reviews'].astype(int)"
      ],
      "metadata": {
        "id": "uPmjJmkOG2Ji"
      },
      "execution_count": null,
      "outputs": []
    },
    {
      "cell_type": "code",
      "source": [
        "# Convert the 'Price' column from string (with '$' sign) to float\n",
        "# Step 1: Ensure everything is string\n",
        "df['Price'] = df['Price'].astype(str)\n",
        "\n",
        "# Step 2: Remove currency symbols, spaces, commas etc.\n",
        "df['Price'] = df['Price'].str.replace(r'[^0-9.]', '', regex=True)\n",
        "\n",
        "# Step 3: Replace empty strings with NaN\n",
        "df['Price'] = df['Price'].replace('', np.nan)\n",
        "\n",
        "# Step 4: Convert to float safely\n",
        "df['Price'] = df['Price'].astype(float)"
      ],
      "metadata": {
        "id": "uBUCq4dTG2MU"
      },
      "execution_count": null,
      "outputs": []
    },
    {
      "cell_type": "code",
      "source": [
        "# Step 1: Drop rows where Size is 'Varies with device' or missing\n",
        "df = df[df['Size'].notna() & (df['Size'] != 'Varies with device')].copy()\n",
        "\n",
        "# Step 2: Convert remaining Size values to float (MB)\n",
        "def size_to_mb(size):\n",
        "    size = str(size).strip()\n",
        "    if 'M' in size:\n",
        "        return float(size.replace('M',''))\n",
        "    elif 'k' in size or 'K' in size:\n",
        "        return float(size.replace('k','').replace('K','')) / 1024\n",
        "    else:\n",
        "        return float(size)  # already numeric\n",
        "\n",
        "df['Size'] = df['Size'].apply(size_to_mb)\n",
        "\n",
        "# Step 3: Ensure dtype is float\n",
        "df['Size'] = df['Size'].astype(float)"
      ],
      "metadata": {
        "id": "xVgBUPSokXjy"
      },
      "execution_count": null,
      "outputs": []
    },
    {
      "cell_type": "code",
      "source": [
        "# Convert the 'Last Updated' column from string/object type to datetime format for easier time-based analysis\n",
        "df['Last Updated'] = pd.to_datetime(df['Last Updated'])"
      ],
      "metadata": {
        "id": "jH7-Se3CG2Pt"
      },
      "execution_count": null,
      "outputs": []
    },
    {
      "cell_type": "code",
      "source": [
        "# Convert Sentiment columns to float\n",
        "df['Sentiment_Polarity'] = df['Sentiment_Polarity'].astype(float)\n",
        "df['Sentiment_Subjectivity'] = df['Sentiment_Subjectivity'].astype(float)"
      ],
      "metadata": {
        "id": "c1u_lZXIxpO7"
      },
      "execution_count": null,
      "outputs": []
    },
    {
      "cell_type": "code",
      "source": [
        "# Extract Year and Month from Last Updated\n",
        "df['Last_Updated_Year'] = df['Last Updated'].dt.year\n",
        "df['Last_Updated_Month'] = df['Last Updated'].dt.month"
      ],
      "metadata": {
        "id": "7DPbqWYN0bTy"
      },
      "execution_count": null,
      "outputs": []
    },
    {
      "cell_type": "markdown",
      "source": [
        "### What all manipulations have you done and insights you found?"
      ],
      "metadata": {
        "id": "MSa1f5Uengrz"
      }
    },
    {
      "cell_type": "markdown",
      "source": [
        "### 1. Created a Copy of Dataset\n",
        "\n",
        "Made a copy of the original dataset (df = data.copy()) so that the raw data remains safe for future reference.\n",
        "\n",
        "### 2. Handling Missing Values\n",
        "\n",
        "* Rating → Filled missing values with median (chosen after checking skewness).\n",
        "\n",
        "* Review & Sentiment-related columns (Translated_Review, Sentiment, Sentiment_Polarity, Sentiment_Subjectivity) → Rows with missing values were dropped because imputing text/sentiment data is not meaningful and could bias sentiment analysis.\n",
        "\n",
        "* Ensured dataset completeness by removing incomplete records.\n",
        "\n",
        "### 3. Removing Duplicates & Resetting Index\n",
        "\n",
        "* Dropped duplicate rows to avoid bias in analysis.\n",
        "\n",
        "* Reset the index so the dataset remains continuous after row deletions.\n",
        "\n",
        "### 4. Data Type Conversions\n",
        "\n",
        "* Installs → Removed non-numeric characters (+ and ,) and converted to integer.\n",
        "\n",
        "* Reviews → Converted from string to integer.\n",
        "\n",
        "* Price →\n",
        "Removed $ and other non-numeric characters.\n",
        "Converted cleaned column to float for numerical analysis.\n",
        "\n",
        "* Size → Dropped rows with 'Varies with device' and converted remaining values to float (MB) for numeric analysis.\n",
        "\n",
        "* Last Updated → Converted from string to datetime format.\n",
        "\n",
        "* Sentiment_Polarity & Sentiment_Subjectivity → Converted to float.\n",
        "\n",
        "### 5. Feature Engineering\n",
        "\n",
        "* Extracted Last_Updated_Year and Last_Updated_Month from the Last Updated column for time-based analysis.\n",
        "\n",
        "### 📊 Insights\n",
        "\n",
        "* Missing Data: Rating was safely filled using median; sentiment-related missing rows were dropped to preserve analysis quality.\n",
        "\n",
        "* Data Consistency: All numeric columns (Installs, Reviews, Price) are now in correct numerical types, enabling aggregation and visualization.\n",
        "\n",
        "* Time Features: Extracted year & month allow trend analysis of app updates over time.\n",
        "\n",
        "* Bias Reduction: Removing duplicates & incomplete sentiment rows ensures more reliable EDA results."
      ],
      "metadata": {
        "id": "LbyXE7I1olp8"
      }
    },
    {
      "cell_type": "markdown",
      "source": [
        "## ***4. Data Vizualization, Storytelling & Experimenting with charts : Understand the relationships between variables***"
      ],
      "metadata": {
        "id": "GF8Ens_Soomf"
      }
    },
    {
      "cell_type": "markdown",
      "source": [
        "#### Chart - 1"
      ],
      "metadata": {
        "id": "0wOQAZs5pc--"
      }
    },
    {
      "cell_type": "code",
      "source": [
        "# Chart - 1 visualization code\n",
        "\n",
        "# set up the figure size for better visulization\n",
        "plt.figure(figsize=(8,6))\n",
        "\n",
        "# Creating a histplot with KDE(kernal Density Estimate) plot\n",
        "# Plot distribution of Ratings\n",
        "sns.histplot(df['Rating'], bins=24, kde=True, color='red')\n",
        "\n",
        "# Add title and axis labels\n",
        "plt.title(\"Distribution of App Ratings\", fontsize=14, weight='bold')\n",
        "plt.xlabel(\"App Rating\")\n",
        "plt.ylabel(\"Frequency\")\n",
        "\n",
        "# Adding grid for better readbility of values\n",
        "plt.grid(True)\n",
        "\n",
        "# Show the plot\n",
        "plt.show()"
      ],
      "metadata": {
        "id": "7v_ESjsspbW7"
      },
      "execution_count": null,
      "outputs": []
    },
    {
      "cell_type": "markdown",
      "source": [
        "##### 1. Why did you pick the specific chart?"
      ],
      "metadata": {
        "id": "K5QZ13OEpz2H"
      }
    },
    {
      "cell_type": "markdown",
      "source": [
        "I chose a Histogram with KDE because it clearly shows how app ratings are distributed. It helps identify rating patterns, central tendency, and skewness at a glance."
      ],
      "metadata": {
        "id": "XESiWehPqBRc"
      }
    },
    {
      "cell_type": "markdown",
      "source": [
        "##### 2. What is/are the insight(s) found from the chart?"
      ],
      "metadata": {
        "id": "lQ7QKXXCp7Bj"
      }
    },
    {
      "cell_type": "markdown",
      "source": [
        "The chart shows that most apps on the Play Store receive high ratings (above 4.0), with a strong peak around 4.2–4.6  . The distribution is left-skewed, indicating fewer low-rated apps. Very few apps fall below 3.5, suggesting an overall positive sentiment and user satisfaction with most apps"
      ],
      "metadata": {
        "id": "C_j1G7yiqdRP"
      }
    },
    {
      "cell_type": "markdown",
      "source": [
        "##### 3. Will the gained insights help creating a positive business impact?\n",
        "Are there any insights that lead to negative growth? Justify with specific reason."
      ],
      "metadata": {
        "id": "448CDAPjqfQr"
      }
    },
    {
      "cell_type": "markdown",
      "source": [
        "Yes, the gained insights can help create a positive business impact because the concentration of high ratings (above 4.0) reflects strong user satisfaction and trust, which is crucial for app downloads and retention.\n",
        "\n",
        "However, the presence of a small portion of low-rated apps (<3.5) may lead to negative growth for those apps, as poor ratings can discourage new users and reduce visibility in the Play Store ranking. Hence, businesses should focus on improving user experience and fixing issues in low-rated apps to avoid negative impact."
      ],
      "metadata": {
        "id": "3cspy4FjqxJW"
      }
    },
    {
      "cell_type": "markdown",
      "source": [
        "#### Chart - 2"
      ],
      "metadata": {
        "id": "KSlN3yHqYklG"
      }
    },
    {
      "cell_type": "code",
      "source": [
        "# Chart - 2 visualization code\n",
        "\n",
        "# set up the figure size for better visulization\n",
        "plt.figure(figsize=(15,6))\n",
        "\n",
        "# Count the number of apps in each category\n",
        "category_counts = df['Category'].value_counts()\n",
        "\n",
        "# Plot bar chart apps distributed across \"Categories\"\n",
        "sns.barplot(x=category_counts.index, y=category_counts.values, color='red')\n",
        "\n",
        "# Chart title and labels\n",
        "plt.title(\"Distribution of Apps Across Categories\", fontsize=16,weight='bold')\n",
        "plt.xlabel(\"App Categories\", fontsize=12)\n",
        "plt.ylabel(\"Number of Apps\", fontsize=12)\n",
        "plt.xticks(rotation=75)\n",
        "\n",
        "# Show the plot\n",
        "plt.show()"
      ],
      "metadata": {
        "id": "R4YgtaqtYklH"
      },
      "execution_count": null,
      "outputs": []
    },
    {
      "cell_type": "markdown",
      "source": [
        "##### 1. Why did you pick the specific chart?"
      ],
      "metadata": {
        "id": "t6dVpIINYklI"
      }
    },
    {
      "cell_type": "markdown",
      "source": [
        "I chose a bar chart because it is the most effective way to compare apps across different categories. It clearly highlights which categories have the highest or lowest number of apps, making the distribution easy to understand at a glance."
      ],
      "metadata": {
        "id": "5aaW0BYyYklI"
      }
    },
    {
      "cell_type": "markdown",
      "source": [
        "##### 2. What is/are the insight(s) found from the chart?"
      ],
      "metadata": {
        "id": "ijmpgYnKYklI"
      }
    },
    {
      "cell_type": "markdown",
      "source": [
        "### The insights from the chart are:\n",
        "\n",
        "* Games dominate the Play Store, reflecting high user demand and developer focus.\n",
        "\n",
        "* Lifestyle-related apps (Family, Health & Fitness, Travel, Tools) are also widely developed, showing their importance in daily life.\n",
        "\n",
        "* There is a broad variety of app categories, from entertainment to niche areas, highlighting a diverse app ecosystem.\n",
        "\n",
        "* Niche categories (Comics, Events, Maps & Navigation) have fewer apps, indicating limited user engagement or developer interest."
      ],
      "metadata": {
        "id": "PSx9atu2YklI"
      }
    },
    {
      "cell_type": "markdown",
      "source": [
        "##### 3. Will the gained insights help creating a positive business impact?\n",
        "Are there any insights that lead to negative growth? Justify with specific reason."
      ],
      "metadata": {
        "id": "-JiQyfWJYklI"
      }
    },
    {
      "cell_type": "markdown",
      "source": [
        "Yes, the insights will help create a positive business impact as they highlight where user demand is strongest (e.g., Games, Family, Health & Fitness), guiding developers and businesses to focus on high-growth categories.\n",
        "\n",
        "On the other hand, niche categories with fewer apps (like Comics, Events, or Parenting) may show slower growth or limited demand, which could lead to negative business impact if companies over-invest in them without proper market research."
      ],
      "metadata": {
        "id": "BcBbebzrYklV"
      }
    },
    {
      "cell_type": "markdown",
      "source": [
        "#### Chart - 3"
      ],
      "metadata": {
        "id": "EM7whBJCYoAo"
      }
    },
    {
      "cell_type": "code",
      "source": [
        "# Chart - 3 visualization code\n",
        "\n",
        "# set up the figure size for better visulization\n",
        "plt.figure(figsize=(12,6))\n",
        "\n",
        "# Count apps by Content Rating\n",
        "content_counts = df[\"Content Rating\"].value_counts()\n",
        "content_counts.plot(kind=\"bar\", color=\"blue\", edgecolor=\"black\")\n",
        "\n",
        "# Chart title and labels\n",
        "plt.title(\"Apps Distribution by Content Rating\", fontsize=14)\n",
        "plt.xlabel(\"Content Rating\")\n",
        "plt.ylabel(\"Number of Apps\")\n",
        "plt.xticks(rotation=45)\n",
        "plt.grid(axis=\"y\", linestyle=\"--\", alpha=0.7)\n",
        "\n",
        "# Show the plot\n",
        "plt.show()"
      ],
      "metadata": {
        "id": "t6GMdE67YoAp"
      },
      "execution_count": null,
      "outputs": []
    },
    {
      "cell_type": "markdown",
      "source": [
        "##### 1. Why did you pick the specific chart?"
      ],
      "metadata": {
        "id": "fge-S5ZAYoAp"
      }
    },
    {
      "cell_type": "markdown",
      "source": [
        "I picked a bar chart because it is the most effective way to compare the number of apps across different content rating categories. It makes it easy to see which audience group dominates and highlights differences at a glance."
      ],
      "metadata": {
        "id": "5dBItgRVYoAp"
      }
    },
    {
      "cell_type": "markdown",
      "source": [
        "##### 2. What is/are the insight(s) found from the chart?"
      ],
      "metadata": {
        "id": "85gYPyotYoAp"
      }
    },
    {
      "cell_type": "markdown",
      "source": [
        "* \"Everyone\" dominates → Most apps are designed for all age groups, showing developers target the widest audience.\n",
        "\n",
        "* \"Teen\" is second-largest → A strong market exists for apps aimed at adolescents, especially in gaming, social, and entertainment.\n",
        "\n",
        "* Age-restricted apps are fewer → Categories like Mature 17+ and Adults Only 18+ form a small niche, indicating limited demand or stricter guidelines.\n",
        "\n",
        "* Implication → Developers seeking mass adoption should focus on Everyone and Teen categories, while niche developers may explore age-restricted apps with specific audiences."
      ],
      "metadata": {
        "id": "4jstXR6OYoAp"
      }
    },
    {
      "cell_type": "markdown",
      "source": [
        "##### 3. Will the gained insights help creating a positive business impact?\n",
        "Are there any insights that lead to negative growth? Justify with specific reason."
      ],
      "metadata": {
        "id": "RoGjAbkUYoAp"
      }
    },
    {
      "cell_type": "markdown",
      "source": [
        "Yes, the insights can help create a positive business impact.\n",
        "\n",
        "* The dominance of “Everyone” and “Teen” categories suggests that developers and businesses should focus on these ratings to maximize reach and adoption, as they cover the widest user base.\n",
        "\n",
        "* These insights also help app marketers refine their target audience strategies, ensuring better alignment of ads and promotions with user demographics"
      ],
      "metadata": {
        "id": "zfJ8IqMcYoAp"
      }
    },
    {
      "cell_type": "markdown",
      "source": [
        "#### Chart - 4"
      ],
      "metadata": {
        "id": "4Of9eVA-YrdM"
      }
    },
    {
      "cell_type": "code",
      "source": [
        "# Chart - 4 visualization code\n",
        "\n",
        "# set up the figure size for better visulization\n",
        "plt.figure(figsize=(12,6))\n",
        "# Plot histogram of App Size\n",
        "plt.hist(df['Size'], bins=50, color=\"red\", edgecolor=\"black\")\n",
        "\n",
        "# Chart title and labels\n",
        "plt.xlabel(\"App Size (MB)\")\n",
        "plt.ylabel(\"Number of Apps\")\n",
        "plt.title(\"Distribution of App Sizes (MB)\")\n",
        "\n",
        "# Show the plot\n",
        "plt.show()"
      ],
      "metadata": {
        "id": "irlUoxc8YrdO"
      },
      "execution_count": null,
      "outputs": []
    },
    {
      "cell_type": "markdown",
      "source": [
        "##### 1. Why did you pick the specific chart?"
      ],
      "metadata": {
        "id": "iky9q4vBYrdO"
      }
    },
    {
      "cell_type": "markdown",
      "source": [
        "A histogram was used in this code to show how app sizes (in MB) are distributed across the dataset. It helps visualize which size ranges are most common and identify any outliers."
      ],
      "metadata": {
        "id": "aJRCwT6DYrdO"
      }
    },
    {
      "cell_type": "markdown",
      "source": [
        "##### 2. What is/are the insight(s) found from the chart?"
      ],
      "metadata": {
        "id": "F6T5p64dYrdO"
      }
    },
    {
      "cell_type": "markdown",
      "source": [
        "* Most apps are small: A large number of apps are below 40 MB, indicating smaller apps dominate the market.\n",
        "\n",
        "* Fewer large apps: The number of apps decreases as size increases, with very few apps above 80 MB.\n",
        "\n",
        "* Popular size ranges: Certain smaller size ranges (e.g., below 20 MB) have peaks, showing common app size preferences.\n",
        "\n",
        "* Large apps are rare: Very large apps (near 100 MB) are uncommon compared to smaller ones."
      ],
      "metadata": {
        "id": "Xx8WAJvtYrdO"
      }
    },
    {
      "cell_type": "markdown",
      "source": [
        "##### 3. Will the gained insights help creating a positive business impact?\n",
        "Are there any insights that lead to negative growth? Justify with specific reason."
      ],
      "metadata": {
        "id": "y-Ehk30pYrdP"
      }
    },
    {
      "cell_type": "markdown",
      "source": [
        "Yes, the insights can help create a positive business impact.\n",
        "\n",
        "* Knowing that most apps are small (below 40 MB) can guide developers and businesses to optimize their app sizes, ensuring faster downloads and wider reach, especially in regions with limited internet speed or storage.\n",
        "\n",
        "* Identifying popular size ranges allows businesses to align their app development with market trends, increasing the chances of adoption.\n",
        "\n",
        "\n",
        "Potential Negative Growth:\n",
        "\n",
        "* The rarity of large apps (>80 MB) may indicate user reluctance to download heavy apps, which could negatively impact businesses planning to launch feature-rich or resource-heavy applications.\n",
        "\n",
        "* If a business ignores this trend and releases large apps without optimization, it may face lower downloads and user engagement, leading to negative growth."
      ],
      "metadata": {
        "id": "jLNxxz7MYrdP"
      }
    },
    {
      "cell_type": "markdown",
      "source": [
        "#### Chart - 5"
      ],
      "metadata": {
        "id": "bamQiAODYuh1"
      }
    },
    {
      "cell_type": "code",
      "source": [
        "# Chart - 5 visualization code\n",
        "\n",
        "# set up the figure size for better visulization\n",
        "plt.figure(figsize=(12,6))\n",
        "\n",
        "# Count number of apps updated each year\n",
        "updates_per_year = df['Last_Updated_Year'].value_counts().sort_index()\n",
        "\n",
        "# Plot line chart\n",
        "plt.plot(updates_per_year.index, updates_per_year.values, marker='o', color='blue')\n",
        "# Chart title and labels\n",
        "plt.title(\"Trend of App Updates by Year\")\n",
        "plt.xlabel(\"Year\")\n",
        "plt.ylabel(\"Number of Apps Updated\")\n",
        "\n",
        "# Adding grid for better readbility of values\n",
        "plt.grid(True)\n",
        "\n",
        "# Show the plot\n",
        "plt.show()"
      ],
      "metadata": {
        "id": "TIJwrbroYuh3"
      },
      "execution_count": null,
      "outputs": []
    },
    {
      "cell_type": "markdown",
      "source": [
        "##### 1. Why did you pick the specific chart?"
      ],
      "metadata": {
        "id": "QHF8YVU7Yuh3"
      }
    },
    {
      "cell_type": "markdown",
      "source": [
        "A line chart was chosen because it is ideal for showing trends over time. It clearly displays how the number of apps updated changes year by year, making it easy to identify increases, decreases, or patterns in app updates."
      ],
      "metadata": {
        "id": "dcxuIMRPYuh3"
      }
    },
    {
      "cell_type": "markdown",
      "source": [
        "##### 2. What is/are the insight(s) found from the chart?"
      ],
      "metadata": {
        "id": "GwzvFGzlYuh3"
      }
    },
    {
      "cell_type": "markdown",
      "source": [
        "The chart shows an overall upward trend in app updates from 2011 to 2018, with a sharp surge between 2016–2018. Updates remained high afterward, indicating a growing and active app ecosystem.\n",
        "\n",
        "\n",
        "\n",
        "* Sharp surge (2016–2017): There was a dramatic increase in updates, indicating rapid app development or new update policies.\n",
        "\n",
        "* High levels maintained (2017–2018): After the surge, updates remained high, though growth slowed."
      ],
      "metadata": {
        "id": "uyqkiB8YYuh3"
      }
    },
    {
      "cell_type": "markdown",
      "source": [
        "##### 3. Will the gained insights help creating a positive business impact?\n",
        "Are there any insights that lead to negative growth? Justify with specific reason."
      ],
      "metadata": {
        "id": "qYpmQ266Yuh3"
      }
    },
    {
      "cell_type": "markdown",
      "source": [
        "Yes, the insights can help create a positive business impact.\n",
        "\n",
        "* The upward trend and sharp surge in updates indicate that developers are actively maintaining apps, which helps businesses plan timely updates to stay competitive.\n",
        "\n",
        "* Knowing that updates remain high allows companies to invest in app improvement and new features, improving user engagement and retention."
      ],
      "metadata": {
        "id": "_WtzZ_hCYuh4"
      }
    },
    {
      "cell_type": "markdown",
      "source": [
        "#### Chart - 6"
      ],
      "metadata": {
        "id": "OH-pJp9IphqM"
      }
    },
    {
      "cell_type": "code",
      "source": [
        "# Chart - 6 visualization code\n",
        "\n",
        "# set up the figure size for better visulization\n",
        "plt.figure(figsize=(12,6))\n",
        "\n",
        "# Boxplot for Price vs App Type\n",
        "plt.subplot(1, 2, 1)\n",
        "sns.boxplot(x='Type', y='Price', data=df, color='blue')\n",
        "\n",
        "# Chart title and labels\n",
        "plt.title(\"Price Distribution by App Type\")\n",
        "plt.ylabel(\"Price ($)\")\n",
        "plt.xlabel(\"App Type\")\n",
        "\n",
        "# Boxplot for Rating vs App Type\n",
        "plt.subplot(1, 2, 2)\n",
        "sns.boxplot(x='Type', y='Rating', data=df, color='red')\n",
        "\n",
        "# Chart title and labels\n",
        "plt.title(\"Rating Distribution by App Type\")\n",
        "plt.ylabel(\"Rating\")\n",
        "plt.xlabel(\"App Type\")\n",
        "plt.tight_layout()\n",
        "\n",
        "# Show the plot\n",
        "plt.show()"
      ],
      "metadata": {
        "id": "kuRf4wtuphqN"
      },
      "execution_count": null,
      "outputs": []
    },
    {
      "cell_type": "markdown",
      "source": [
        "##### 1. Why did you pick the specific chart?"
      ],
      "metadata": {
        "id": "bbFf2-_FphqN"
      }
    },
    {
      "cell_type": "markdown",
      "source": [
        "A box plot was chosen because it effectively shows the distribution of a numeric variable (Price or Rating) across categories (Free vs Paid apps).\n",
        "\n",
        "* It displays the median, quartiles, and outliers, helping compare central tendency and variability between Free and Paid apps.\n",
        "\n",
        "* It makes it easy to spot differences in price and rating trends between the two app types."
      ],
      "metadata": {
        "id": "loh7H2nzphqN"
      }
    },
    {
      "cell_type": "markdown",
      "source": [
        "##### 2. What is/are the insight(s) found from the chart?"
      ],
      "metadata": {
        "id": "_ouA3fa0phqN"
      }
    },
    {
      "cell_type": "markdown",
      "source": [
        "The insights from the box plots are:\n",
        "\n",
        "Price Distribution:\n",
        "\n",
        "* Free apps have a median price of $0, while paid apps have a higher median price.\n",
        "\n",
        "* Paid apps show a wider price range, indicating a few apps are significantly more expensive.\n",
        "\n",
        "Rating Distribution:\n",
        "\n",
        "* Both free and paid apps generally have high median ratings, though free apps have slightly higher median ratings.\n",
        "\n",
        "* Paid apps have more consistent ratings (smaller interquartile range), while free apps show more low-rated outliers.\n",
        "\n",
        "* Overall, paid apps tend to have more stable quality, while free apps exhibit a broader range of ratings."
      ],
      "metadata": {
        "id": "VECbqPI7phqN"
      }
    },
    {
      "cell_type": "markdown",
      "source": [
        "##### 3. Will the gained insights help creating a positive business impact?\n",
        "Are there any insights that lead to negative growth? Justify with specific reason."
      ],
      "metadata": {
        "id": "Seke61FWphqN"
      }
    },
    {
      "cell_type": "markdown",
      "source": [
        "Yes, the insights can help create a positive business impact\n",
        "\n",
        "* Businesses can price paid apps strategically, knowing that higher-priced apps are accepted by users but outliers indicate opportunities for premium offerings.\n",
        "\n",
        "* Insights about rating consistency suggest that investing in paid apps can lead to more stable user satisfaction, which supports retention and positive reviews"
      ],
      "metadata": {
        "id": "DW4_bGpfphqN"
      }
    },
    {
      "cell_type": "markdown",
      "source": [
        "#### Chart - 7"
      ],
      "metadata": {
        "id": "PIIx-8_IphqN"
      }
    },
    {
      "cell_type": "code",
      "source": [
        "# Chart - 7 visualization code\n",
        "\n",
        "# Optionally remove extreme outliers in Reviews\n",
        "df_plot = df[df['Reviews'] < 500000].copy()  # adjust threshold if needed\n",
        "\n",
        "# Set up the figure size for better visualization\n",
        "plt.figure(figsize=(14,7))\n",
        "\n",
        "# Scatter plot\n",
        "sns.scatterplot(\n",
        "    x='Size',\n",
        "    y='Reviews',\n",
        "    data=df_plot,\n",
        "    alpha=0.5,\n",
        "    color='blue',\n",
        "    s=150\n",
        ")\n",
        "\n",
        "# Chart title and labels\n",
        "plt.title(\"Relationship between App Size and Number of Reviews\")\n",
        "plt.xlabel(\"App Size (MB)\")\n",
        "plt.ylabel(\"Number of Reviews\")\n",
        "plt.tight_layout()\n",
        "\n",
        "# Show the plot\n",
        "plt.show()"
      ],
      "metadata": {
        "id": "lqAIGUfyphqO"
      },
      "execution_count": null,
      "outputs": []
    },
    {
      "cell_type": "markdown",
      "source": [
        "##### 1. Why did you pick the specific chart?"
      ],
      "metadata": {
        "id": "t27r6nlMphqO"
      }
    },
    {
      "cell_type": "markdown",
      "source": [
        "A scatter plot was chosen because it clearly shows the relationship between App Size and Number of Reviews. It helps identify trends, clusters, and outliers, revealing whether larger apps tend to get more or fewer reviews."
      ],
      "metadata": {
        "id": "iv6ro40sphqO"
      }
    },
    {
      "cell_type": "markdown",
      "source": [
        "##### 2. What is/are the insight(s) found from the chart?"
      ],
      "metadata": {
        "id": "r2jJGEOYphqO"
      }
    },
    {
      "cell_type": "markdown",
      "source": [
        "The insights from the scatter plot are:\n",
        "\n",
        "* No strong correlation: App size does not consistently determine the number of reviews.\n",
        "\n",
        "* Smaller apps dominate: Most apps are small (under 20–30 MB) and have fewer reviews (under 100,000).\n",
        "\n",
        "* High-review outliers: Some smaller and medium-sized apps have very high reviews, indicating factors other than size drive popularity."
      ],
      "metadata": {
        "id": "Po6ZPi4hphqO"
      }
    },
    {
      "cell_type": "markdown",
      "source": [
        "##### 3. Will the gained insights help creating a positive business impact?\n",
        "Are there any insights that lead to negative growth? Justify with specific reason."
      ],
      "metadata": {
        "id": "b0JNsNcRphqO"
      }
    },
    {
      "cell_type": "markdown",
      "source": [
        "Positive Impact: Developers can focus on smaller, optimized apps since app size doesn’t limit review potential, and studying high-review outliers can guide feature and marketing improvements.\n",
        "\n",
        "Negative Growth: Investing heavily in very large apps may lead to poor engagement, as larger apps rarely achieve high reviews, so overemphasis on size over quality could hurt growth"
      ],
      "metadata": {
        "id": "xvSq8iUTphqO"
      }
    },
    {
      "cell_type": "markdown",
      "source": [
        "#### Chart - 8"
      ],
      "metadata": {
        "id": "BZR9WyysphqO"
      }
    },
    {
      "cell_type": "code",
      "source": [
        "# Chart - 8 visualization code\n",
        "\n",
        "# set up the figure size for better visulization\n",
        "plt.figure(figsize=(6,5))\n",
        "\n",
        "# Count plot\n",
        "sns.countplot(x='Type', data=df,color=\"yellow\",palette =[\"orange\",\"blue\"],legend=True)\n",
        "\n",
        "# Chart title and labels\n",
        "plt.title(\"Number of Apps by Type (Free vs Paid)\")\n",
        "plt.xlabel(\"App Type\")\n",
        "plt.ylabel(\"Number of Apps\")\n",
        "\n",
        "plt.tight_layout()\n",
        "# Show the plot\n",
        "plt.show()"
      ],
      "metadata": {
        "id": "TdPTWpAVphqO"
      },
      "execution_count": null,
      "outputs": []
    },
    {
      "cell_type": "markdown",
      "source": [
        "##### 1. Why did you pick the specific chart?"
      ],
      "metadata": {
        "id": "jj7wYXLtphqO"
      }
    },
    {
      "cell_type": "markdown",
      "source": [
        "A count plot was chosen because it clearly shows the number of apps in each category (Free vs Paid)."
      ],
      "metadata": {
        "id": "Ob8u6rCTphqO"
      }
    },
    {
      "cell_type": "markdown",
      "source": [
        "##### 2. What is/are the insight(s) found from the chart?"
      ],
      "metadata": {
        "id": "eZrbJ2SmphqO"
      }
    },
    {
      "cell_type": "markdown",
      "source": [
        "The insights from the chart are:\n",
        "\n",
        "* Majority are Free apps: Most apps in the Play Store are free.\n",
        "\n",
        "* Few Paid apps: Paid apps make up only a small portion of the total apps.\n",
        "\n",
        "* This suggests that developers primarily focus on free apps, likely relying on ads or in-app purchases for revenue."
      ],
      "metadata": {
        "id": "mZtgC_hjphqO"
      }
    },
    {
      "cell_type": "markdown",
      "source": [
        "##### 3. Will the gained insights help creating a positive business impact?\n",
        "Are there any insights that lead to negative growth? Justify with specific reason."
      ],
      "metadata": {
        "id": "rFu4xreNphqO"
      }
    },
    {
      "cell_type": "markdown",
      "source": [
        "Positive Business Impact:\n",
        "\n",
        "* Businesses can focus on free apps with monetization strategies like ads or in-app purchases, as they dominate the market.\n",
        "\n",
        "* Shows opportunity for innovative features or premium upgrades within free apps to generate revenue.\n",
        "\n",
        "Potential Negative Growth:\n",
        "\n",
        "* Fewer paid apps indicate high competition for users willing to pay upfront.\n",
        "\n",
        "* Launching a paid app without a strong value proposition could lead to low downloads and limited growth."
      ],
      "metadata": {
        "id": "ey_0qi68phqO"
      }
    },
    {
      "cell_type": "markdown",
      "source": [
        "#### Chart - 9"
      ],
      "metadata": {
        "id": "YJ55k-q6phqO"
      }
    },
    {
      "cell_type": "code",
      "source": [
        "# Chart - 9 visualization code\n",
        "\n",
        "# Get top 10 categories by number of apps\n",
        "top10_categories = df['Category'].value_counts().head(10)\n",
        "\n",
        "# set up the figure size for better visulization\n",
        "plt.figure(figsize=(10,6))\n",
        "\n",
        "# pie chart\n",
        "plt.pie(top10_categories, labels=top10_categories.index, autopct='%1.1f%%', startangle=140, colors=plt.cm.tab20.colors)\n",
        "plt.title(\"Top 10 App Categories by Number of Apps\")\n",
        "# Show the plot\n",
        "plt.show()"
      ],
      "metadata": {
        "id": "B2aS4O1ophqO"
      },
      "execution_count": null,
      "outputs": []
    },
    {
      "cell_type": "markdown",
      "source": [
        "##### 1. Why did you pick the specific chart?"
      ],
      "metadata": {
        "id": "gCFgpxoyphqP"
      }
    },
    {
      "cell_type": "markdown",
      "source": [
        "A pie chart was chosen because it clearly shows the proportion of apps in each category."
      ],
      "metadata": {
        "id": "TVxDimi2phqP"
      }
    },
    {
      "cell_type": "markdown",
      "source": [
        "##### 2. What is/are the insight(s) found from the chart?"
      ],
      "metadata": {
        "id": "OVtJsKN_phqQ"
      }
    },
    {
      "cell_type": "markdown",
      "source": [
        "The insights from the pie chart are:\n",
        "\n",
        "* Games dominate the Play Store: The GAME category accounts for 35.7% of the top 10 categories, making it the largest segment by far.\n",
        "\n",
        "* Family and Health apps are significant: FAMILY (13.6%) and HEALTH_AND_FITNESS (7.3%) also hold a notable share.\n",
        "\n",
        "* Other categories share the remainder: Categories like Travel, Tools, Productivity, Sports, Finance, Photography, and Dating each contribute between 5–7%, indicating smaller but meaningful niches.\n",
        "\n",
        "* Highly concentrated market: A few categories (especially games) dominate the app ecosystem, while many categories have much smaller shares, highlighting both competitive and niche opportunities."
      ],
      "metadata": {
        "id": "ngGi97qjphqQ"
      }
    },
    {
      "cell_type": "markdown",
      "source": [
        "##### 3. Will the gained insights help creating a positive business impact?\n",
        "Are there any insights that lead to negative growth? Justify with specific reason."
      ],
      "metadata": {
        "id": "lssrdh5qphqQ"
      }
    },
    {
      "cell_type": "markdown",
      "source": [
        "The insights can create a positive business impact by focusing on high-demand categories like Games, Family, and Health & Fitness, which have large user bases and engagement. Niche categories offer opportunities with less competition, allowing innovation. However, the high concentration in a few categories poses a risk of intense competition, while smaller categories may limit growth due to their smaller audience."
      ],
      "metadata": {
        "id": "tBpY5ekJphqQ"
      }
    },
    {
      "cell_type": "markdown",
      "source": [
        "#### Chart - 10"
      ],
      "metadata": {
        "id": "U2RJ9gkRphqQ"
      }
    },
    {
      "cell_type": "code",
      "source": [
        "# Chart - 10 visualization code\n",
        "\n",
        "# Count reviews by Sentiment\n",
        "sentiment_counts = df['Sentiment'].value_counts()\n",
        "\n",
        "# set up the figure size for better visulization\n",
        "plt.figure(figsize=(7,5))\n",
        "# Pie chart\n",
        "plt.pie(sentiment_counts, labels=sentiment_counts.index, autopct='%1.1f%%', startangle=140, colors=['orange','red','green'])\n",
        "plt.title(\"Percentage Distribution of App Reviews by Sentiment\")\n",
        "# Show the plot\n",
        "plt.show()"
      ],
      "metadata": {
        "id": "GM7a4YP4phqQ"
      },
      "execution_count": null,
      "outputs": []
    },
    {
      "cell_type": "markdown",
      "source": [
        "##### 1. Why did you pick the specific chart?"
      ],
      "metadata": {
        "id": "1M8mcRywphqQ"
      }
    },
    {
      "cell_type": "markdown",
      "source": [
        "I picked a pie chart because it visually represents the proportion of app reviews across different sentiment categories (Positive, Negative, Neutral). Pie charts make it easy to see which sentiment dominates at a glance, showing relative shares clearly, which is ideal for categorical data like sentiment. It’s especially useful when the goal is to compare parts of a whole rather than exact counts."
      ],
      "metadata": {
        "id": "8agQvks0phqQ"
      }
    },
    {
      "cell_type": "markdown",
      "source": [
        "##### 2. What is/are the insight(s) found from the chart?"
      ],
      "metadata": {
        "id": "tgIPom80phqQ"
      }
    },
    {
      "cell_type": "markdown",
      "source": [
        "The insights from the pie chart are:\n",
        "\n",
        "* High Positive Sentiment: 63.6% of reviews are positive, indicating that most users are satisfied with the apps.\n",
        "\n",
        "* Notable Negative Feedback: 23.9% of reviews are negative, highlighting areas where apps may need improvements.\n",
        "\n",
        "* Neutral Reviews are Small: 12.5% of reviews are neutral, showing a minor portion of users are indifferent.\n",
        "\n",
        "* Business Implication: Overall, the market perception is favorable, but addressing negative feedback can further improve app ratings, downloads, and user retention."
      ],
      "metadata": {
        "id": "Qp13pnNzphqQ"
      }
    },
    {
      "cell_type": "markdown",
      "source": [
        "##### 3. Will the gained insights help creating a positive business impact?\n",
        "Are there any insights that lead to negative growth? Justify with specific reason."
      ],
      "metadata": {
        "id": "JMzcOPDDphqR"
      }
    },
    {
      "cell_type": "markdown",
      "source": [
        "Yes, the insights can help businesses improve and grow. The high percentage of positive reviews (63.6%) indicates strong user satisfaction, which can be leveraged for marketing, user acquisition, and retention strategies. Understanding what users like can guide feature improvements and enhance app engagement."
      ],
      "metadata": {
        "id": "R4Ka1PC2phqR"
      }
    },
    {
      "cell_type": "markdown",
      "source": [
        "#### Chart - 11"
      ],
      "metadata": {
        "id": "x-EpHcCOp1ci"
      }
    },
    {
      "cell_type": "code",
      "source": [
        "# Chart - 11 visualization code\n",
        "\n",
        "# Group by Year and Sentiment, count reviews\n",
        "review_counts = df.groupby(['Last_Updated_Year', 'Sentiment'])['Translated_Review'].count().reset_index()\n",
        "review_counts.rename(columns={'Translated_Review':'Review_Count'}, inplace=True)\n",
        "\n",
        "# set up the figure size for better visulization\n",
        "plt.figure(figsize=(12,6))\n",
        "\n",
        "# Bar plot\n",
        "sns.barplot(\n",
        "    data=review_counts,\n",
        "    x='Last_Updated_Year',\n",
        "    y='Review_Count',\n",
        "    hue='Sentiment',\n",
        "    palette='Set2'\n",
        ")\n",
        "# Chart title and labels\n",
        "plt.xlabel('Year')\n",
        "plt.ylabel('Number of Reviews')\n",
        "plt.title('Count of Reviews by Sentiment for Each Year')\n",
        "plt.legend(title='Sentiment')\n",
        "# Show the plot\n",
        "plt.show()"
      ],
      "metadata": {
        "id": "mAQTIvtqp1cj"
      },
      "execution_count": null,
      "outputs": []
    },
    {
      "cell_type": "markdown",
      "source": [
        "##### 1. Why did you pick the specific chart?"
      ],
      "metadata": {
        "id": "X_VqEhTip1ck"
      }
    },
    {
      "cell_type": "markdown",
      "source": [
        "I picked a bar plot because it clearly shows the count of reviews across different categories (Sentiments) for each year. Bar plots are ideal for comparing discrete groups and highlighting differences in magnitude, making it easy to see which sentiment dominates in a particular year and how trends change over time."
      ],
      "metadata": {
        "id": "-vsMzt_np1ck"
      }
    },
    {
      "cell_type": "markdown",
      "source": [
        "##### 2. What is/are the insight(s) found from the chart?"
      ],
      "metadata": {
        "id": "8zGJKyg5p1ck"
      }
    },
    {
      "cell_type": "markdown",
      "source": [
        "The chart shows that positive reviews consistently dominate from 2015 to 2018, reflecting generally favorable user perception. From 2016 to 2018, there is a notable upward trend in positive reviews, with a dramatic surge in 2018, indicating higher user engagement and satisfaction. Early years (2011–2015) had low review counts, while 2017 shows gradual growth. Overall, the proportion of sentiments remains consistent despite changes in review volume."
      ],
      "metadata": {
        "id": "ZYdMsrqVp1ck"
      }
    },
    {
      "cell_type": "markdown",
      "source": [
        "##### 3. Will the gained insights help creating a positive business impact?\n",
        "Are there any insights that lead to negative growth? Justify with specific reason."
      ],
      "metadata": {
        "id": "PVzmfK_Ep1ck"
      }
    },
    {
      "cell_type": "markdown",
      "source": [
        "Yes, these insights can drive a positive business impact. The dominance of positive reviews shows strong user satisfaction, which can boost app reputation and marketing efforts. The sharp rise in positive reviews in 2018 highlights successful updates or features, guiding future improvements. Gradual growth in 2017 indicates increasing user engagement, while consistent sentiment proportions help prioritize areas for maintaining quality and addressing negative feedback. Overall, this can enhance ratings, downloads, and revenue"
      ],
      "metadata": {
        "id": "druuKYZpp1ck"
      }
    },
    {
      "cell_type": "markdown",
      "source": [
        "#### Chart - 12"
      ],
      "metadata": {
        "id": "n3dbpmDWp1ck"
      }
    },
    {
      "cell_type": "code",
      "source": [
        "# Chart - 12 visualization code\n",
        "# Group by Year and calculate average Sentiment_Polarity\n",
        "polarity_trend = df.groupby('Last_Updated_Year')['Sentiment_Polarity'].mean().reset_index()\n",
        "\n",
        "# set up the figure size for better visulization\n",
        "plt.figure(figsize=(12,6))\n",
        "\n",
        "# Line plot\n",
        "plt.plot(\n",
        "    polarity_trend['Last_Updated_Year'],\n",
        "    polarity_trend['Sentiment_Polarity'],\n",
        "    marker='o',\n",
        "    linestyle='-',\n",
        "    color='green'\n",
        ")\n",
        "# Chart title and labels\n",
        "plt.xlabel('Year')\n",
        "plt.ylabel('Average Sentiment Polarity')\n",
        "plt.title('Change in Average Sentiment Polarity of Reviews Over the Years')\n",
        "plt.grid(True)\n",
        "# Show the plot\n",
        "plt.show()"
      ],
      "metadata": {
        "id": "bwevp1tKp1ck"
      },
      "execution_count": null,
      "outputs": []
    },
    {
      "cell_type": "markdown",
      "source": [
        "##### 1. Why did you pick the specific chart?"
      ],
      "metadata": {
        "id": "ylSl6qgtp1ck"
      }
    },
    {
      "cell_type": "markdown",
      "source": [
        "I picked a line chart because it is ideal for showing trends over time. Since we want to track how the average Sentiment_Polarity changes across years, a line chart clearly highlights increases, decreases, or stable patterns, making it easy to interpret temporal changes in user sentiment."
      ],
      "metadata": {
        "id": "m2xqNkiQp1ck"
      }
    },
    {
      "cell_type": "markdown",
      "source": [
        "##### 2. What is/are the insight(s) found from the chart?"
      ],
      "metadata": {
        "id": "ZWILFDl5p1ck"
      }
    },
    {
      "cell_type": "markdown",
      "source": [
        "The insights from the chart are:\n",
        "\n",
        "* Initial Decline (2011–2012): Average sentiment polarity dropped sharply, indicating a rise in negative reviews or reduced positive sentiment.\n",
        "\n",
        "* Recovery and Fluctuation (2012–2015): Sentiment gradually improved with minor fluctuations, showing a recovery in user satisfaction.\n",
        "\n",
        "* Peak Sentiment (~2015): Sentiment polarity reached its highest point, reflecting the most positive reviews in the period.\n",
        "\n",
        "* Subsequent Decline (2015–2017): Average sentiment fell again, indicating a decrease in positive user sentiment.\n",
        "\n",
        "* Slight Rebound (2017–2018): Sentiment shows modest improvement or stabilization, though not reaching the 2015 peak.\n",
        "\n",
        "* Overall Trend: Sentiment polarity varied significantly over the years, highlighting dynamic changes in user experience and opinions."
      ],
      "metadata": {
        "id": "x-lUsV2mp1ck"
      }
    },
    {
      "cell_type": "markdown",
      "source": [
        "##### 3. Will the gained insights help creating a positive business impact?\n",
        "Are there any insights that lead to negative growth? Justify with specific reason."
      ],
      "metadata": {
        "id": "M7G43BXep1ck"
      }
    },
    {
      "cell_type": "markdown",
      "source": [
        "The insights can help create a positive business impact by showing when user sentiment was high, guiding strategies to replicate successful features or updates. The slight rebound in 2017–2018 indicates opportunities to further improve user experience. However, the declines in 2011–2012 and 2015–2017 highlight periods of lower satisfaction, which could lead to reduced engagement or revenue. Identifying and addressing issues from these periods can prevent negative growth. Overall, tracking sentiment trends helps optimize app development and user retention."
      ],
      "metadata": {
        "id": "5wwDJXsLp1cl"
      }
    },
    {
      "cell_type": "markdown",
      "source": [
        "#### Chart - 13"
      ],
      "metadata": {
        "id": "Ag9LCva-p1cl"
      }
    },
    {
      "cell_type": "code",
      "source": [
        "# Chart - 13 visualization code\n",
        "\n",
        "# Count number of reviews by Sentiment per year\n",
        "sentiment_year = df.groupby(['Last_Updated_Year', 'Sentiment']).size().unstack(fill_value=0)\n",
        "\n",
        "# set up the figure size for better visulization\n",
        "plt.figure(figsize=(10,6))\n",
        "\n",
        "#Plot stacked area chart\n",
        "sentiment_year.plot(kind='area', stacked=True,color=['blue', 'green', 'red'], alpha=0.8)\n",
        "\n",
        "# Chart title and labels\n",
        "plt.title('Sentiment Distribution of App Reviews Over Years', fontsize=14)\n",
        "plt.xlabel('Year', fontsize=12)\n",
        "plt.ylabel('Number of Reviews', fontsize=12)\n",
        "plt.legend(title='Sentiment')\n",
        "# Show the plot\n",
        "plt.show()"
      ],
      "metadata": {
        "id": "EUfxeq9-p1cl"
      },
      "execution_count": null,
      "outputs": []
    },
    {
      "cell_type": "markdown",
      "source": [
        "##### 1. Why did you pick the specific chart?"
      ],
      "metadata": {
        "id": "E6MkPsBcp1cl"
      }
    },
    {
      "cell_type": "markdown",
      "source": [
        "I picked a stacked area chart because it clearly shows how Positive, Neutral, and Negative sentiments change over time. It allows comparison of all three categories in one view and highlights trends in user reviews across years. Light colors make the chart visually clean and easy to interpret."
      ],
      "metadata": {
        "id": "V22bRsFWp1cl"
      }
    },
    {
      "cell_type": "markdown",
      "source": [
        "##### 2. What is/are the insight(s) found from the chart?"
      ],
      "metadata": {
        "id": "2cELzS2fp1cl"
      }
    },
    {
      "cell_type": "markdown",
      "source": [
        "Here are the key insights from the chart:\n",
        "\n",
        "* Growth in Reviews: The total number of reviews increased steadily over the years, with a sharp rise in 2017–2018.\n",
        "\n",
        "* Positive Sentiment Dominates: Positive reviews consistently make up the largest share and show the most growth.\n",
        "\n",
        "* Rising Negative & Neutral Reviews: Both negative and neutral reviews also increased in recent years, especially after 2016.\n",
        "\n",
        "* Shift in Proportions: While positives remain dominant, the share of neutral and negative reviews became more visible in later years, indicating a broader spread of user opinions."
      ],
      "metadata": {
        "id": "ozQPc2_Ip1cl"
      }
    },
    {
      "cell_type": "markdown",
      "source": [
        "##### 3. Will the gained insights help creating a positive business impact?\n",
        "Are there any insights that lead to negative growth? Justify with specific reason."
      ],
      "metadata": {
        "id": "3MPXvC8up1cl"
      }
    },
    {
      "cell_type": "markdown",
      "source": [
        "Yes ✅, the gained insights can help create a positive business impact:\n",
        "\n",
        "* Product Improvement: The rise in negative and neutral reviews alerts businesses to identify common issues and improve app performance, features, or user experience.\n",
        "\n",
        "* Customer Engagement: The dominance of positive reviews shows strong user satisfaction, which businesses can leverage in marketing campaigns to build trust.\n",
        "\n",
        "* Trend Monitoring: Tracking sentiment over time helps businesses see whether updates are improving user perception or causing dissatisfaction, guiding future development strategies."
      ],
      "metadata": {
        "id": "GL8l1tdLp1cl"
      }
    },
    {
      "cell_type": "markdown",
      "source": [
        "#### Chart - 14 - Correlation Heatmap"
      ],
      "metadata": {
        "id": "NC_X3p0fY2L0"
      }
    },
    {
      "cell_type": "code",
      "source": [
        "# Correlation Heatmap visualization code\n",
        "\n",
        "# Filtering numerical data\n",
        "num_data = df.select_dtypes(include=[\"int64\",\"float64\"])\n",
        "correl = num_data.corr()\n",
        "\n",
        "# Set up figure size for better visualization\n",
        "plt.figure(figsize = (8,6))\n",
        "\n",
        "# Plot heatmap\n",
        "sns.heatmap(correl,annot = True,cmap = \"rainbow\")\n",
        "plt.tight_layout()\n",
        "\n",
        "# Display the heatmap\n",
        "plt.show()"
      ],
      "metadata": {
        "id": "xyC9zolEZNRQ"
      },
      "execution_count": null,
      "outputs": []
    },
    {
      "cell_type": "markdown",
      "source": [
        "##### 1. Why did you pick the specific chart?"
      ],
      "metadata": {
        "id": "UV0SzAkaZNRQ"
      }
    },
    {
      "cell_type": "markdown",
      "source": [
        "The heatmap was chosen as it clearly visualizes correlations between numerical variables, making patterns and relationships easy to interpret at a glance."
      ],
      "metadata": {
        "id": "DVPuT8LYZNRQ"
      }
    },
    {
      "cell_type": "markdown",
      "source": [
        "##### 2. What is/are the insight(s) found from the chart?"
      ],
      "metadata": {
        "id": "YPEH6qLeZNRQ"
      }
    },
    {
      "cell_type": "markdown",
      "source": [
        "Here are the insights from the heatmap correlation matrix:\n",
        "\n",
        "* Interconnected Growth Factors: Reviews, Installs, and Size are strongly correlated, showing that bigger apps tend to attract more installs and generate more reviews.\n",
        "\n",
        "* User Feedback Link: Sentiment Polarity and Sentiment Subjectivity are positively related, meaning more emotional (subjective) reviews are often more polarized.\n",
        "\n",
        "* Price Independence: Price shows almost no meaningful correlation with ratings, installs, reviews, or sentiments, suggesting it does not drive user behavior strongly.\n",
        "\n",
        "* Weak Influence of Ratings: Ratings have only weak links with Reviews and Size, indicating that factors beyond just app popularity or size affect user ratings.\n",
        "\n",
        "* Negative Sentiment Trend: Larger user bases (more installs/reviews) slightly lower sentiment polarity, likely due to more diverse and critical feedback."
      ],
      "metadata": {
        "id": "bfSqtnDqZNRR"
      }
    },
    {
      "cell_type": "markdown",
      "source": [
        "#### Chart - 15 - Pair Plot"
      ],
      "metadata": {
        "id": "q29F0dvdveiT"
      }
    },
    {
      "cell_type": "code",
      "source": [
        "# Pair Plot visualization code\n",
        "key_cols = ['Rating', 'Reviews', 'Installs', 'Price', 'Sentiment_Polarity']\n",
        "df_key = df[key_cols].dropna()\n",
        "\n",
        "sns.pairplot(df_key, diag_kind='kde', plot_kws={'alpha':0.5, 's':40, 'edgecolor':'k'})\n",
        "plt.suptitle(\"Pairwise Relationships (Key Features)\", y=1.02)\n",
        "plt.show()\n"
      ],
      "metadata": {
        "id": "o58-TEIhveiU"
      },
      "execution_count": null,
      "outputs": []
    },
    {
      "cell_type": "markdown",
      "source": [
        "##### 1. Why did you pick the specific chart?"
      ],
      "metadata": {
        "id": "EXh0U9oCveiU"
      }
    },
    {
      "cell_type": "markdown",
      "source": [
        "I chose the pairplot because it shows both the distribution of each variable and the relationships between pairs of variables, making it easier to detect patterns, correlations, or clusters in the dataset"
      ],
      "metadata": {
        "id": "eMmPjTByveiU"
      }
    },
    {
      "cell_type": "markdown",
      "source": [
        "##### 2. What is/are the insight(s) found from the chart?"
      ],
      "metadata": {
        "id": "22aHeOlLveiV"
      }
    },
    {
      "cell_type": "markdown",
      "source": [
        "The chart shows that apps with higher installs also receive more reviews, confirming strong user engagement. Ratings are mostly clustered between 4.2–4.6, indicating overall positive user experience. Price has little effect on installs or reviews, as most apps are free or low-priced. Sentiment polarity is generally positive but not strongly tied to popularity."
      ],
      "metadata": {
        "id": "uPQ8RGwHveiV"
      }
    },
    {
      "cell_type": "markdown",
      "source": [
        "## **5. Solution to Business Objective**"
      ],
      "metadata": {
        "id": "JcMwzZxoAimU"
      }
    },
    {
      "cell_type": "markdown",
      "source": [
        "#### What do you suggest the client to achieve Business Objective ?\n",
        "Explain Briefly."
      ],
      "metadata": {
        "id": "8G2x9gOozGDZ"
      }
    },
    {
      "cell_type": "markdown",
      "source": [
        "1. Focus on High-Demand Categories\n",
        "Since Games, Family, and Lifestyle apps dominate installs and engagement, developers should prioritize these categories or identify innovative niches where competition is lower but demand exists.\n",
        "\n",
        "2. Leverage User Sentiment & Feedback\n",
        "With 63% positive reviews but nearly 24% negative, businesses must address recurring issues flagged in negative reviews. Proactive updates and bug fixes can turn dissatisfied users into loyal ones, improving retention.\n",
        "\n",
        "3. Optimize Pricing Strategy\n",
        "Since most apps are free and price shows little impact on ratings or installs, focusing on freemium models (ads, in-app purchases, subscriptions) will likely generate better revenue than high upfront prices.\n",
        "\n",
        "4. Keep Apps Lightweight & Regularly Updated\n",
        "Users prefer smaller apps, and frequent updates (2016–2018 surge) are strongly linked with better user perception and higher installs. Businesses should optimize app size and maintain an active update cycle to stay competitive.\n",
        "\n",
        "5. Target the Widest Audience\n",
        "With “Everyone” being the largest content rating group, apps designed for universal use (with teen-friendly features) are more likely to gain traction. Niche audiences (17+ apps) can still be explored but offer limited market share."
      ],
      "metadata": {
        "id": "pASKb0qOza21"
      }
    },
    {
      "cell_type": "markdown",
      "source": [
        "# **Conclusion**"
      ],
      "metadata": {
        "id": "gCX9965dhzqZ"
      }
    },
    {
      "cell_type": "markdown",
      "source": [
        "The analysis highlights that success on the Play Store is driven by popular categories (Games, Family, Lifestyle), lightweight apps, frequent updates, and positive user engagement. Since most apps are free, adopting freemium models is more effective for revenue. Targeting the widest audience with “Everyone” content rating while addressing user feedback will help apps achieve higher installs, better ratings, and sustainable growth."
      ],
      "metadata": {
        "id": "Fjb1IsQkh3yE"
      }
    },
    {
      "cell_type": "markdown",
      "source": [
        "### ***Hurrah! You have successfully completed your EDA Capstone Project !!!***"
      ],
      "metadata": {
        "id": "gIfDvo9L0UH2"
      }
    }
  ]
}